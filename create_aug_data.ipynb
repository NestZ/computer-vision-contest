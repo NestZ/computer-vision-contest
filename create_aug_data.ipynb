{
 "cells": [
  {
   "cell_type": "code",
   "execution_count": null,
   "source": [
    "import csv"
   ],
   "outputs": [],
   "metadata": {}
  },
  {
   "cell_type": "code",
   "execution_count": null,
   "source": [
    "mx_meat = 0\n",
    "mx_veggie = 0\n",
    "mx_noodle = 0\n",
    "\n",
    "with open('./dataset/data.csv', 'r') as file_1 :\n",
    "\tdataframe = csv.reader(file_1)\n",
    "\tfor row in dataframe :\n",
    "\t\tif row[0] != 'filename' :\n",
    "\t\t\tmeat = int(row[1])\n",
    "\t\t\tveggie = int(row[2])\n",
    "\t\t\tnoodle = int(row[3])\n",
    "\t\t\tmx_meat = max(mx_meat, meat)\n",
    "\t\t\tmx_veggie = max(mx_veggie, veggie)\n",
    "\t\t\tmx_noodle = max(mx_noodle, noodle)\n",
    "file_1.close()\n",
    "\n",
    "print(mx_meat)\n",
    "print(mx_veggie)\n",
    "print(mx_noodle)"
   ],
   "outputs": [],
   "metadata": {}
  },
  {
   "cell_type": "code",
   "execution_count": null,
   "source": [
    "data_aug = []\n",
    "with open('./dataset/data.csv', 'r') as file_2 :\n",
    "\tdataframe = csv.reader(file_2)\n",
    "\tfor row in dataframe :\n",
    "\t\tif row[0] == 'filename' :\n",
    "\t\t\trow.append('norm_meat')\n",
    "\t\t\trow.append('norm_veggie')\n",
    "\t\t\trow.append('norm_noodle')\n",
    "\t\telse :\n",
    "\t\t\tmeat = int(row[1])\n",
    "\t\t\tveggie = int(row[2])\n",
    "\t\t\tnoodle = int(row[3])\n",
    "\t\t\trow.append(meat / mx_meat)\n",
    "\t\t\trow.append(veggie / mx_veggie)\n",
    "\t\t\trow.append(noodle / mx_noodle)\n",
    "\t\tprint(row)\n",
    "\t\tdata_aug.append(row)\n",
    "file_2.close()\n",
    "\n",
    "file_w = open('./dataset/data_aug.csv', 'w')\n",
    "writer = csv.writer(file_w)\n",
    "for data in data_aug :\n",
    "\twriter.writerow(data)\n",
    "file_w.close()"
   ],
   "outputs": [],
   "metadata": {}
  }
 ],
 "metadata": {
  "orig_nbformat": 4,
  "language_info": {
   "name": "python",
   "version": "3.8.5",
   "mimetype": "text/x-python",
   "codemirror_mode": {
    "name": "ipython",
    "version": 3
   },
   "pygments_lexer": "ipython3",
   "nbconvert_exporter": "python",
   "file_extension": ".py"
  },
  "kernelspec": {
   "name": "python3",
   "display_name": "Python 3.8.5 64-bit ('base': conda)"
  },
  "interpreter": {
   "hash": "cbf101488eafd169dba2c657d0e46156aa31084b77f3c1453d27d754808c0076"
  }
 },
 "nbformat": 4,
 "nbformat_minor": 2
}