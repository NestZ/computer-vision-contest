{
 "cells": [
  {
   "cell_type": "code",
   "execution_count": null,
   "metadata": {},
   "outputs": [],
   "source": [
    "import pandas as pd\n",
    "from keras.preprocessing.image import ImageDataGenerator\n",
    "from keras.models import load_model"
   ]
  },
  {
   "cell_type": "code",
   "execution_count": null,
   "metadata": {},
   "outputs": [],
   "source": [
    "MAX_MEAT = 47\n",
    "MAX_VEGGIE = 101\n",
    "MAX_NOODLE = 268\n",
    "BATCH_SIZE = 20\n",
    "IMAGE_SIZE = (256, 256)"
   ]
  },
  {
   "cell_type": "code",
   "execution_count": null,
   "metadata": {},
   "outputs": [],
   "source": [
    "df = pd.read_csv('./rechallenge_round/data.csv', header = 0, delimiter = ',')"
   ]
  },
  {
   "cell_type": "code",
   "execution_count": null,
   "metadata": {},
   "outputs": [],
   "source": [
    "data_gen = ImageDataGenerator(rescale=1./255)\n",
    "\n",
    "test_generator = data_gen.flow_from_dataframe(\n",
    "    dataframe = df.loc[0 : 299],\n",
    "    directory = './rechallenge_round/images',\n",
    "    x_col = 'filename',\n",
    "    y_col = [],\n",
    "    shuffle = False,\n",
    "    target_size = IMAGE_SIZE,\n",
    "    batch_size = BATCH_SIZE,\n",
    "\tclass_mode= 'raw')\n",
    "\n",
    "test_generator.reset()\n",
    "model = load_model('model_best.h5')\n",
    "predict = model.predict(\n",
    "    test_generator,\n",
    "    steps = len(test_generator),\n",
    "    workers = 1,\n",
    "    use_multiprocessing = False)"
   ]
  },
  {
   "cell_type": "code",
   "execution_count": null,
   "metadata": {},
   "outputs": [],
   "source": [
    "result = []\n",
    "test_generator.reset()\n",
    "for (i, t) in enumerate(test_generator.labels) :\n",
    "\tfile_name = str(i + 1) + '.jpg'\n",
    "\tmeat, veggie, noodle = (predict[i][0] * MAX_MEAT, predict[i][1] * MAX_VEGGIE, predict[i][2] * MAX_NOODLE)\n",
    "\tresult.append([file_name, meat, veggie, noodle])\n",
    "\n",
    "df = pd.DataFrame(result)\n",
    "df.head()\n",
    "\n",
    "df.to_csv('./rechallenge_round/Result.csv', sep = ',', index = False, header = ['filename', 'meat', 'veggie', 'noodle'])"
   ]
  }
 ],
 "metadata": {
  "interpreter": {
   "hash": "9cc34758efb1a780ed9668c34db9e628f66d3857b55f97cba7b9494b4a29028a"
  },
  "kernelspec": {
   "display_name": "Python 3.8.5 64-bit ('base': conda)",
   "name": "python3"
  },
  "language_info": {
   "codemirror_mode": {
    "name": "ipython",
    "version": 3
   },
   "file_extension": ".py",
   "mimetype": "text/x-python",
   "name": "python",
   "nbconvert_exporter": "python",
   "pygments_lexer": "ipython3",
   "version": "3.8.5"
  },
  "orig_nbformat": 4
 },
 "nbformat": 4,
 "nbformat_minor": 2
}
