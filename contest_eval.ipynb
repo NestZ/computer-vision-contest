{
 "cells": [
  {
   "cell_type": "code",
   "execution_count": 1,
   "metadata": {},
   "outputs": [],
   "source": [
    "import pandas as pd\n",
    "from keras.preprocessing.image import ImageDataGenerator\n",
    "from keras.models import load_model"
   ]
  },
  {
   "cell_type": "code",
   "execution_count": 2,
   "metadata": {},
   "outputs": [],
   "source": [
    "MAX_MEAT = 47\n",
    "MAX_VEGGIE = 101\n",
    "MAX_NOODLE = 268\n",
    "BATCH_SIZE = 20\n",
    "IMAGE_SIZE = (256,256)"
   ]
  },
  {
   "cell_type": "code",
   "execution_count": 3,
   "metadata": {},
   "outputs": [
    {
     "data": {
      "text/html": [
       "<div>\n",
       "<style scoped>\n",
       "    .dataframe tbody tr th:only-of-type {\n",
       "        vertical-align: middle;\n",
       "    }\n",
       "\n",
       "    .dataframe tbody tr th {\n",
       "        vertical-align: top;\n",
       "    }\n",
       "\n",
       "    .dataframe thead th {\n",
       "        text-align: right;\n",
       "    }\n",
       "</style>\n",
       "<table border=\"1\" class=\"dataframe\">\n",
       "  <thead>\n",
       "    <tr style=\"text-align: right;\">\n",
       "      <th></th>\n",
       "      <th>filename</th>\n",
       "    </tr>\n",
       "  </thead>\n",
       "  <tbody>\n",
       "    <tr>\n",
       "      <th>0</th>\n",
       "      <td>1.jpg</td>\n",
       "    </tr>\n",
       "    <tr>\n",
       "      <th>1</th>\n",
       "      <td>2.jpg</td>\n",
       "    </tr>\n",
       "    <tr>\n",
       "      <th>2</th>\n",
       "      <td>3.jpg</td>\n",
       "    </tr>\n",
       "    <tr>\n",
       "      <th>3</th>\n",
       "      <td>4.jpg</td>\n",
       "    </tr>\n",
       "    <tr>\n",
       "      <th>4</th>\n",
       "      <td>5.jpg</td>\n",
       "    </tr>\n",
       "  </tbody>\n",
       "</table>\n",
       "</div>"
      ],
      "text/plain": [
       "  filename\n",
       "0    1.jpg\n",
       "1    2.jpg\n",
       "2    3.jpg\n",
       "3    4.jpg\n",
       "4    5.jpg"
      ]
     },
     "execution_count": 3,
     "metadata": {},
     "output_type": "execute_result"
    }
   ],
   "source": [
    "file_name = ['filename'] + [str(i + 1) + '.jpg' for i in range(300)]\n",
    "df = pd.DataFrame(file_name)\n",
    "df.to_csv('test.csv', index = False, header = False)\n",
    "df = pd.read_csv('./test.csv', header = 0, delimiter = ',')\n",
    "df.head()"
   ]
  },
  {
   "cell_type": "code",
   "execution_count": 5,
   "metadata": {},
   "outputs": [
    {
     "name": "stdout",
     "output_type": "stream",
     "text": [
      "Found 300 validated image filenames.\n",
      "15\n"
     ]
    }
   ],
   "source": [
    "data_gen = ImageDataGenerator(rescale=1./255)\n",
    "\n",
    "test_generator = data_gen.flow_from_dataframe(\n",
    "    dataframe = df.loc[0 : 299],\n",
    "    directory = './ranking_round/images',\n",
    "    x_col = 'filename',\n",
    "    y_col = [],\n",
    "    shuffle = False,\n",
    "    target_size = IMAGE_SIZE,\n",
    "    batch_size = BATCH_SIZE,\n",
    "\tclass_mode= 'raw')\n",
    "\n",
    "test_generator.reset()\n",
    "print(len(test_generator))\n",
    "model = load_model('model_best.h5')\n",
    "predict = model.predict(\n",
    "    test_generator,\n",
    "    steps = len(test_generator),\n",
    "    workers = 1,\n",
    "    use_multiprocessing = False)"
   ]
  },
  {
   "cell_type": "code",
   "execution_count": 20,
   "metadata": {},
   "outputs": [
    {
     "name": "stdout",
     "output_type": "stream",
     "text": [
      "300\n"
     ]
    }
   ],
   "source": [
    "print(len(predict))\n",
    "result = []\n",
    "test_generator.reset()\n",
    "for (i, t) in enumerate(test_generator.labels) :\n",
    "\tfile_name = str(i + 1) + '.jpg'\n",
    "\tmeat, veggie, noodle = (predict[i][0] * MAX_MEAT, predict[i][1] * MAX_VEGGIE, predict[i][2] * MAX_NOODLE)\n",
    "\tresult.append([file_name, meat, veggie, noodle])\n",
    "\n",
    "df = pd.DataFrame(result)\n",
    "df.head()\n",
    "\n",
    "df.to_csv('result.csv', sep = ',', index = False, header = ['filename', 'meat', 'veggie', 'noodle'])"
   ]
  }
 ],
 "metadata": {
  "interpreter": {
   "hash": "9cc34758efb1a780ed9668c34db9e628f66d3857b55f97cba7b9494b4a29028a"
  },
  "kernelspec": {
   "display_name": "Python 3.8.5 64-bit ('base': conda)",
   "name": "python3"
  },
  "language_info": {
   "codemirror_mode": {
    "name": "ipython",
    "version": 3
   },
   "file_extension": ".py",
   "mimetype": "text/x-python",
   "name": "python",
   "nbconvert_exporter": "python",
   "pygments_lexer": "ipython3",
   "version": "3.8.5"
  },
  "orig_nbformat": 4
 },
 "nbformat": 4,
 "nbformat_minor": 2
}
