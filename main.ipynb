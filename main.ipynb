{
 "cells": [
  {
   "cell_type": "code",
   "execution_count": null,
   "source": [
    "from keras.models import Model, load_model\n",
    "from keras.layers import Dense, Dropout, Flatten, Input, BatchNormalization, Conv2D, MaxPool2D\n",
    "from tensorflow.keras.optimizers import Adam\n",
    "from keras.preprocessing.image import ImageDataGenerator\n",
    "from keras.callbacks import Callback, ModelCheckpoint\n",
    "import matplotlib.pyplot as plt\n",
    "import pandas as pd"
   ],
   "outputs": [],
   "metadata": {}
  },
  {
   "cell_type": "code",
   "execution_count": null,
   "source": [
    "BATCH_SIZE = 20\n",
    "IMAGE_SIZE = (256,256)\n",
    "IMAGE_NUM = 1856\n",
    "TRAINING_SET_NUM = int(0.7 * IMAGE_NUM)\n",
    "VALIDATION_SET_NUM = int(0.2 * IMAGE_NUM)\n",
    "TEST_SET_NUM = IMAGE_NUM - TRAINING_SET_NUM - VALIDATION_SET_NUM\n",
    "print(TRAINING_SET_NUM)\n",
    "print(VALIDATION_SET_NUM)\n",
    "print(TEST_SET_NUM)"
   ],
   "outputs": [],
   "metadata": {}
  },
  {
   "cell_type": "code",
   "execution_count": null,
   "source": [
    "dataframe = pd.read_csv('./dataset/data_aug.csv', delimiter = ',', header = 0)\n",
    "dataframe.head()"
   ],
   "outputs": [],
   "metadata": {}
  },
  {
   "cell_type": "code",
   "execution_count": null,
   "source": [
    "datagen = ImageDataGenerator(rescale=1./255)\n",
    "\n",
    "train_generator = datagen.flow_from_dataframe(\n",
    "    dataframe = dataframe.loc[0 : TRAINING_SET_NUM - 1],\n",
    "    directory = './dataset/images',\n",
    "    x_col = 'filename',\n",
    "    y_col = ['norm_meat', 'norm_veggie', 'norm_noodle'],\n",
    "\tshuffle = True,\n",
    "    target_size = IMAGE_SIZE,\n",
    "    batch_size = BATCH_SIZE,\n",
    "    class_mode = 'raw')\n",
    "\n",
    "validation_generator = datagen.flow_from_dataframe(\n",
    "    dataframe = dataframe.loc[TRAINING_SET_NUM : TRAINING_SET_NUM + VALIDATION_SET_NUM - 1],\n",
    "    directory = './dataset/images',\n",
    "    x_col = 'filename',\n",
    "    y_col = ['norm_meat', 'norm_veggie', 'norm_noodle'],\n",
    "    shuffle = False,\n",
    "    target_size = IMAGE_SIZE,\n",
    "    batch_size = BATCH_SIZE,\n",
    "    class_mode = 'raw')\n",
    "\n",
    "test_generator = datagen.flow_from_dataframe(\n",
    "    dataframe = dataframe.loc[TRAINING_SET_NUM + VALIDATION_SET_NUM : IMAGE_NUM - 1],\n",
    "    directory = './dataset/images',\n",
    "    x_col = 'filename',\n",
    "    y_col = ['norm_meat', 'norm_veggie', 'norm_noodle'],\n",
    "    shuffle = False,\n",
    "    target_size = IMAGE_SIZE,\n",
    "    batch_size = BATCH_SIZE,\n",
    "    class_mode = 'raw')"
   ],
   "outputs": [],
   "metadata": {}
  },
  {
   "cell_type": "code",
   "execution_count": null,
   "source": [
    "inputIm = Input(shape = (IMAGE_SIZE[0], IMAGE_SIZE[1], 3, ))\n",
    "conv1 = Conv2D(64, 3, activation = 'relu')(inputIm)\n",
    "conv1 = Conv2D(64, 3, activation = 'relu')(conv1)\n",
    "conv1 = BatchNormalization()(conv1)\n",
    "pool1 = MaxPool2D()(conv1)\n",
    "conv2 = Conv2D(128, 3, activation = 'relu')(pool1)\n",
    "conv2 = Conv2D(128, 3, activation = 'relu')(conv2)\n",
    "conv2 = BatchNormalization()(conv2)\n",
    "pool2 = MaxPool2D()(conv2)\n",
    "conv3 = Conv2D(256, 3, activation = 'relu')(pool2)\n",
    "conv3 = Conv2D(256, 3, activation = 'relu')(conv3)\n",
    "conv3 = BatchNormalization()(conv3)\n",
    "pool3 = MaxPool2D()(conv3)\n",
    "conv4 = Conv2D(512, 3, activation = 'relu')(pool3)\n",
    "conv4 = Conv2D(512, 3, activation = 'relu')(conv4)\n",
    "conv4 = BatchNormalization()(conv4)\n",
    "pool4 = MaxPool2D()(conv4)\n",
    "conv5 = Conv2D(1024, 3, activation = 'relu')(pool4)\n",
    "conv5 = Conv2D(1024, 3, activation = 'relu')(conv5)\n",
    "conv5 = BatchNormalization()(conv5)\n",
    "pool5 = MaxPool2D()(conv5)\n",
    "flat = Flatten()(pool5)\n",
    "dense1 = Dense(512, activation = 'sigmoid')(flat)\n",
    "dense1 = Dropout(0.5)(dense1)\n",
    "dense1 = Dense(512, activation = 'sigmoid')(dense1)\n",
    "dense1 = Dropout(0.5)(dense1)\n",
    "dense1 = Dense(512, activation = 'sigmoid')(dense1)\n",
    "dense1 = Dropout(0.5)(dense1)\n",
    "predictedW = Dense(3, activation = 'sigmoid')(dense1)\n",
    "\n",
    "model = Model(inputs = inputIm, outputs = predictedW)\n",
    "\n",
    "model.compile(optimizer = Adam(learning_rate = 1e-4), loss = 'mse', metrics = ['mean_absolute_error'])"
   ],
   "outputs": [],
   "metadata": {}
  },
  {
   "cell_type": "code",
   "execution_count": null,
   "source": [
    "class PlotLosses(Callback):\n",
    "    def on_train_begin(self, logs = {}):\n",
    "        self.x = []\n",
    "        self.losses = []\n",
    "        self.val_losses = []\n",
    "        self.fig = plt.figure()\n",
    "        self.logs = []\n",
    "\n",
    "    def on_epoch_end(self, epoch, logs = {}):\n",
    "        self.logs.append(logs)\n",
    "        self.x.append(epoch)\n",
    "        self.losses.append(logs.get('mean_absolute_error'))\n",
    "        self.val_losses.append(logs.get('val_mean_absolute_error'))\n",
    "\n",
    "        plt.clf()\n",
    "        plt.plot(self.x, self.losses, label = 'mean_absolute_error')\n",
    "        plt.plot(self.x, self.val_losses, label = 'val_mean_absolute_error')\n",
    "        plt.legend()\n",
    "        plt.pause(0.01)\n",
    "\n",
    "\n",
    "checkpoint = ModelCheckpoint('model.h5', verbose = 1, monitor = 'val_mean_absolute_error', save_best_only = True, mode = 'min')\n",
    "plot_losses = PlotLosses()\n",
    "\n",
    "#Train Model\n",
    "model.fit_generator(\n",
    "    train_generator,\n",
    "    steps_per_epoch = len(train_generator),\n",
    "    epochs = 60,\n",
    "    validation_data = validation_generator,\n",
    "    validation_steps = len(validation_generator),\n",
    "    callbacks = [checkpoint, plot_losses])"
   ],
   "outputs": [],
   "metadata": {}
  },
  {
   "cell_type": "code",
   "execution_count": null,
   "source": [
    "#Test Model\n",
    "model = load_model('model.h5')\n",
    "score = model.evaluate_generator(\n",
    "    test_generator,\n",
    "    steps = len(test_generator))\n",
    "print('score (mse, mae):\\n',score)\n",
    "\n",
    "test_generator.reset()\n",
    "predict = model.predict_generator(\n",
    "    test_generator,\n",
    "    steps = len(test_generator),\n",
    "    workers = 1,\n",
    "    use_multiprocessing = False)\n",
    "print('prediction:\\n',predict)"
   ],
   "outputs": [],
   "metadata": {}
  }
 ],
 "metadata": {
  "orig_nbformat": 4,
  "language_info": {
   "name": "python",
   "version": "3.8.5",
   "mimetype": "text/x-python",
   "codemirror_mode": {
    "name": "ipython",
    "version": 3
   },
   "pygments_lexer": "ipython3",
   "nbconvert_exporter": "python",
   "file_extension": ".py"
  },
  "kernelspec": {
   "name": "python3",
   "display_name": "Python 3.8.5 64-bit ('base': conda)"
  },
  "interpreter": {
   "hash": "cbf101488eafd169dba2c657d0e46156aa31084b77f3c1453d27d754808c0076"
  }
 },
 "nbformat": 4,
 "nbformat_minor": 2
}